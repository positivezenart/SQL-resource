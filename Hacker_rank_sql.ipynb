{
  "nbformat": 4,
  "nbformat_minor": 0,
  "metadata": {
    "colab": {
      "name": "Hacker rank sql.ipynb",
      "provenance": [],
      "authorship_tag": "ABX9TyPQb8eRmL8MttMuf34mhX50",
      "include_colab_link": true
    },
    "kernelspec": {
      "name": "python3",
      "display_name": "Python 3"
    },
    "language_info": {
      "name": "python"
    }
  },
  "cells": [
    {
      "cell_type": "markdown",
      "metadata": {
        "id": "view-in-github",
        "colab_type": "text"
      },
      "source": [
        "<a href=\"https://colab.research.google.com/github/positivezenart/SQL-resource/blob/main/Hacker_rank_sql.ipynb\" target=\"_parent\"><img src=\"https://colab.research.google.com/assets/colab-badge.svg\" alt=\"Open In Colab\"/></a>"
      ]
    },
    {
      "cell_type": "markdown",
      "source": [
        "Query all columns for all American cities in the CITY table with populations larger than 100000. The CountryCode for America is USA.\n",
        "\n",
        "The CITY table is described as follows:\n",
        "\n"
      ],
      "metadata": {
        "id": "elg1kQMR61QO"
      }
    },
    {
      "cell_type": "code",
      "execution_count": null,
      "metadata": {
        "id": "Ns8wgRGL6z4Y"
      },
      "outputs": [],
      "source": [
        "SELECT *\n",
        "FROM CITY\n",
        "WHERE POPULATION > 100000 AND COUNTRYCODE = 'USA'"
      ]
    },
    {
      "cell_type": "markdown",
      "source": [
        "Query the NAME field for all American cities in the CITY table with populations larger than 120000. The CountryCode for America is USA."
      ],
      "metadata": {
        "id": "QkvE3CT_66G-"
      }
    },
    {
      "cell_type": "code",
      "source": [
        "SELECT NAME\n",
        "FROM CITY\n",
        "WHERE POPULATION > 120000 AND COUNTRYCODE = \"USA\""
      ],
      "metadata": {
        "id": "9d1Yl6Qf7Len"
      },
      "execution_count": null,
      "outputs": []
    },
    {
      "cell_type": "markdown",
      "source": [
        "Query all columns (attributes) for every row in the CITY table."
      ],
      "metadata": {
        "id": "WYxscXVL7pq3"
      }
    },
    {
      "cell_type": "code",
      "source": [
        "SELECT *\n",
        "FROM CITY"
      ],
      "metadata": {
        "id": "J1kDMX6U7qVW"
      },
      "execution_count": null,
      "outputs": []
    },
    {
      "cell_type": "markdown",
      "source": [
        "Query all columns for a city in CITY with the ID 1661."
      ],
      "metadata": {
        "id": "8Pv1XyLG72kf"
      }
    },
    {
      "cell_type": "code",
      "source": [
        "SELECT *\n",
        "FROM city\n",
        "WHERE ID =\"1661\""
      ],
      "metadata": {
        "id": "M9pPcBPz73In"
      },
      "execution_count": null,
      "outputs": []
    },
    {
      "cell_type": "markdown",
      "source": [
        "Query all attributes of every Japanese city in the CITY table. The COUNTRYCODE for Japan is JPN."
      ],
      "metadata": {
        "id": "r9hgqb1w8EoW"
      }
    },
    {
      "cell_type": "code",
      "source": [
        "SELECT *\n",
        "FROM CITY\n",
        "WHERE COUNTRYCODE = \"JPN\""
      ],
      "metadata": {
        "id": "9THzDk_V8FQG"
      },
      "execution_count": null,
      "outputs": []
    },
    {
      "cell_type": "markdown",
      "source": [
        "Query the names of all the Japanese cities in the CITY table. The COUNTRYCODE for Japan is JPN."
      ],
      "metadata": {
        "id": "OD7c0pe-8RdG"
      }
    },
    {
      "cell_type": "code",
      "source": [
        "SELECT NAME\n",
        "FROM CITY\n",
        "WHERE COUNTRYCODE = \"JPN\""
      ],
      "metadata": {
        "id": "Isdq0Z7-8R6O"
      },
      "execution_count": null,
      "outputs": []
    },
    {
      "cell_type": "markdown",
      "source": [
        "Query a list of CITY and STATE from the STATION table."
      ],
      "metadata": {
        "id": "yf-jM6en8b69"
      }
    },
    {
      "cell_type": "code",
      "source": [
        "/*\n",
        "Enter your query here.\n",
        "*/\n",
        "SELECT CITY, STATE\n",
        "FROM STATION"
      ],
      "metadata": {
        "id": "vAauTUX08e52"
      },
      "execution_count": null,
      "outputs": []
    },
    {
      "cell_type": "markdown",
      "source": [
        "Query a list of CITY names from STATION for cities that have an even ID number. Print the results in any order, but exclude duplicates from the answer."
      ],
      "metadata": {
        "id": "uoicBOPP9HDf"
      }
    },
    {
      "cell_type": "code",
      "source": [
        "/*\n",
        "Enter your query here.\n",
        "*/\n",
        "SELECT DISTINCT CITY\n",
        "FROM STATION\n",
        "WHERE ID%2 = 0"
      ],
      "metadata": {
        "id": "1qn8cxny9Ha-"
      },
      "execution_count": null,
      "outputs": []
    },
    {
      "cell_type": "markdown",
      "source": [
        "Find the difference between the total number of CITY entries in the table and the number of distinct CITY entries in the table."
      ],
      "metadata": {
        "id": "_YPnZVKY9qtS"
      }
    },
    {
      "cell_type": "code",
      "source": [
        "/*\n",
        "Enter your query here.\n",
        "*/\n",
        "SELECT COUNT(CITY)-COUNT(DISTINCT CITY)\n",
        "FROM STATION"
      ],
      "metadata": {
        "id": "g2IwpUIZ9rQY"
      },
      "execution_count": null,
      "outputs": []
    },
    {
      "cell_type": "markdown",
      "source": [
        "Query the two cities in STATION with the shortest and longest CITY names, as well as their respective lengths (i.e.: number of characters in the name). If there is more than one smallest or largest city, choose the one that comes first when ordered alphabetically."
      ],
      "metadata": {
        "id": "KkjYv78ZCF-a"
      }
    },
    {
      "cell_type": "code",
      "source": [
        ""
      ],
      "metadata": {
        "id": "MD_BJF-QCGZ5"
      },
      "execution_count": null,
      "outputs": []
    },
    {
      "cell_type": "markdown",
      "source": [
        "Query the list of CITY names starting with vowels (i.e., a, e, i, o, or u) from STATION. Your result cannot contain duplicates."
      ],
      "metadata": {
        "id": "74dC97IzDCDA"
      }
    },
    {
      "cell_type": "code",
      "source": [
        "select DISTINCT city\n",
        "from station\n",
        "WHERE city like 'a%' OR city like 'e%' OR city like 'i%' OR city like 'o%' OR city like 'u%' ;"
      ],
      "metadata": {
        "id": "KVUyHYPJDBaS"
      },
      "execution_count": null,
      "outputs": []
    },
    {
      "cell_type": "markdown",
      "source": [
        "Query the list of CITY names ending with vowels (a, e, i, o, u) from STATION. Your result cannot contain duplicates."
      ],
      "metadata": {
        "id": "WEaT_FHUDVpA"
      }
    },
    {
      "cell_type": "code",
      "source": [
        "/*\n",
        "Enter your query here.\n",
        "*/\n",
        "select DISTINCT city\n",
        "from station\n",
        "WHERE city like '%a' OR city like '%e' OR city like '%i' OR city like '%o' OR city like '%u' ;"
      ],
      "metadata": {
        "id": "s84v5OxjDV-Q"
      },
      "execution_count": null,
      "outputs": []
    },
    {
      "cell_type": "markdown",
      "source": [
        "Query the list of CITY names from STATION which have vowels (i.e., a, e, i, o, and u) as both their first and last characters. Your result cannot contain duplicates.\n",
        "\n",
        "Input Format"
      ],
      "metadata": {
        "id": "O31BxD_FFCe6"
      }
    },
    {
      "cell_type": "code",
      "source": [
        "/*\n",
        "Enter your query here.\n",
        "*/\n",
        "select DISTINCT city\n",
        "from station\n",
        "\n",
        "WHERE (city like '%a' OR city like '%e' OR city like '%i' OR city like '%o' OR city like '%u' ) AND\n",
        "(city like 'a%' OR city like 'e%' OR city like 'i%' OR city like 'o%' OR city like 'u%' )"
      ],
      "metadata": {
        "id": "79-RFzhDFBSU"
      },
      "execution_count": null,
      "outputs": []
    },
    {
      "cell_type": "markdown",
      "source": [
        "Query the list of CITY names from STATION that do not start with vowels. Your result cannot contain duplicates."
      ],
      "metadata": {
        "id": "9oKfIA_nGafS"
      }
    },
    {
      "cell_type": "code",
      "source": [
        "/*\n",
        "Enter your query here.\n",
        "*/\n",
        "SELECT DISTINCT CITY\n",
        "FROM STATION\n",
        "WHERE (not city like 'a%') AND (not city like 'e%') AND (not city like 'i%') AND (not city like 'o%') AND (not city like 'u%') "
      ],
      "metadata": {
        "id": "Q7m-bZc6Ga4q"
      },
      "execution_count": null,
      "outputs": []
    },
    {
      "cell_type": "markdown",
      "source": [
        "Query the list of CITY names from STATION that do not end with vowels. Your result cannot contain duplicates."
      ],
      "metadata": {
        "id": "a77jW2ZeGqdy"
      }
    },
    {
      "cell_type": "code",
      "source": [
        "/*\n",
        "Enter your query here.\n",
        "*/\n",
        "SELECT DISTINCT CITY\n",
        "FROM STATION\n",
        "WHERE (not city like '%a') AND (not city like '%e') AND (not city like '%i') AND (not city like '%o') AND (not city like '%u') "
      ],
      "metadata": {
        "id": "5su7yBS6Gqxy"
      },
      "execution_count": null,
      "outputs": []
    }
  ]
}